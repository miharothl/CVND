{
 "cells": [
  {
   "cell_type": "markdown",
   "metadata": {},
   "source": [
    "# Character-Level LSTM in PyTorch\n",
    "\n",
    "In this notebook, I'll construct a character-level LSTM with PyTorch. The network will train character by character on some text, then generate new text character by character. As an example, I will train on Anna Karenina. **This model will be able to generate new text based on the text from the book!**\n",
    "\n",
    "This network is based off of Andrej Karpathy's [post on RNNs](http://karpathy.github.io/2015/05/21/rnn-effectiveness/) and [implementation in Torch](https://github.com/karpathy/char-rnn). Below is the general architecture of the character-wise RNN.\n",
    "\n",
    "<img src=\"assets/charseq.jpeg\" width=\"500\">"
   ]
  },
  {
   "cell_type": "markdown",
   "metadata": {},
   "source": [
    "First let's load in our required resources for data loading and model creation."
   ]
  },
  {
   "cell_type": "code",
   "execution_count": 1,
   "metadata": {},
   "outputs": [],
   "source": [
    "import numpy as np\n",
    "import torch\n",
    "from torch import nn\n",
    "import torch.nn.functional as F\n"
   ]
  },
  {
   "cell_type": "markdown",
   "metadata": {},
   "source": [
    "## Load in Data\n",
    "\n",
    "Then, we'll load the Anna Karenina text file and convert it into integers for our network to use. \n",
    "\n",
    "### Tokenization\n",
    "\n",
    "In the second cell, below, I'm creating a couple **dictionaries** to convert the characters to and from integers. Encoding the characters as integers makes it easier to use as input in the network."
   ]
  },
  {
   "cell_type": "code",
   "execution_count": 2,
   "metadata": {},
   "outputs": [],
   "source": [
    "# open text file and read in data as `text`\n",
    "with open('data/anna.txt', 'r') as f:\n",
    "    text = f.read()"
   ]
  },
  {
   "cell_type": "markdown",
   "metadata": {},
   "source": [
    "Now we have the text, encode it as integers."
   ]
  },
  {
   "cell_type": "code",
   "execution_count": 3,
   "metadata": {},
   "outputs": [],
   "source": [
    "# encode the text and map each character to an integer and vice versa\n",
    "\n",
    "# we create two dictonaries:\n",
    "# 1. int2char, which maps integers to characters\n",
    "# 2. char2int, which maps characters to unique integers\n",
    "chars = tuple(set(text))\n",
    "int2char = dict(enumerate(chars))\n",
    "char2int = {ch: ii for ii, ch in int2char.items()}\n",
    "encoded = np.array([char2int[ch] for ch in text])"
   ]
  },
  {
   "cell_type": "markdown",
   "metadata": {},
   "source": [
    "Let's check out the first 100 characters, make sure everything is peachy. According to the [American Book Review](http://americanbookreview.org/100bestlines.asp), this is the 6th best first line of a book ever."
   ]
  },
  {
   "cell_type": "code",
   "execution_count": 4,
   "metadata": {},
   "outputs": [
    {
     "data": {
      "text/plain": [
       "'Chapter 1\\n\\n\\nHappy families are all alike; every unhappy family is unhappy in its own\\nway.\\n\\nEverythin'"
      ]
     },
     "execution_count": 4,
     "metadata": {},
     "output_type": "execute_result"
    }
   ],
   "source": [
    "text[:100]"
   ]
  },
  {
   "cell_type": "markdown",
   "metadata": {},
   "source": [
    "And we can see those same characters encoded as integers."
   ]
  },
  {
   "cell_type": "code",
   "execution_count": 5,
   "metadata": {},
   "outputs": [
    {
     "data": {
      "text/plain": [
       "array([27, 36, 53, 70, 16, 25, 28, 48, 65, 66, 66, 66, 68, 53, 70, 70,  6,\n",
       "       48, 35, 53, 46,  2, 29,  2, 25, 47, 48, 53, 28, 25, 48, 53, 29, 29,\n",
       "       48, 53, 29,  2, 11, 25, 24, 48, 25, 32, 25, 28,  6, 48, 39,  3, 36,\n",
       "       53, 70, 70,  6, 48, 35, 53, 46,  2, 29,  6, 48,  2, 47, 48, 39,  3,\n",
       "       36, 53, 70, 70,  6, 48,  2,  3, 48,  2, 16, 47, 48, 31, 44,  3, 66,\n",
       "       44, 53,  6,  8, 66, 66, 60, 32, 25, 28,  6, 16, 36,  2,  3])"
      ]
     },
     "execution_count": 5,
     "metadata": {},
     "output_type": "execute_result"
    }
   ],
   "source": [
    "encoded[:100]"
   ]
  },
  {
   "cell_type": "markdown",
   "metadata": {},
   "source": [
    "## Pre-processing the data\n",
    "\n",
    "As you can see in our char-RNN image above, our LSTM expects an input that is **one-hot encoded** meaning that each character is converted into an intgere (via our created dictionary) and *then* converted into a column vector where only it's corresponsing integer index will have the value of 1 and the rest of the vector will be filled with 0's. Since we're one-hot encoding the data, let's make a function to do that!\n"
   ]
  },
  {
   "cell_type": "code",
   "execution_count": 6,
   "metadata": {},
   "outputs": [],
   "source": [
    "def one_hot_encode(arr, n_labels):\n",
    "    \n",
    "    # Initialize the the encoded array\n",
    "    one_hot = np.zeros((np.multiply(*arr.shape), n_labels), dtype=np.float32)\n",
    "    \n",
    "    # Fill the appropriate elements with ones\n",
    "    one_hot[np.arange(one_hot.shape[0]), arr.flatten()] = 1.\n",
    "    \n",
    "    # Finally reshape it to get back to the original array\n",
    "    one_hot = one_hot.reshape((*arr.shape, n_labels))\n",
    "    \n",
    "    return one_hot"
   ]
  },
  {
   "cell_type": "markdown",
   "metadata": {},
   "source": [
    "## Making training mini-batches\n",
    "\n",
    "\n",
    "To train on this data, we also want to create mini-batches for training. Remember that we want our batches to be multiple sequences of some desired number of sequence steps. Considering a simple example, our batches would look like this:\n",
    "\n",
    "<img src=\"assets/sequence_batching@1x.png\" width=500px>\n",
    "\n",
    "\n",
    "<br>\n",
    "\n",
    "In this example, we'll take the encoded characters (passed in as the `arr` parameter) and split them into multiple sequences, given by `n_seqs` (also refered to as \"batch size\" in other places). Each of those sequences will be `n_steps` long.\n",
    "\n",
    "### Creating Batches\n",
    "\n",
    "**1. The first thing we need to do is discard some of the text so we only have completely full batches. **\n",
    "\n",
    "Each batch contains $N \\times M$ characters, where $N$ is the batch size (the number of sequences) and $M$ is the number of steps. Then, to get the total number of batches, $K$, we can make from the array `arr`, you divide the length of `arr` by the number of characters per batch. Once you know the number of batches, you can get the total number of characters to keep from `arr`, $N * M * K$.\n",
    "\n",
    "**2. After that, we need to split `arr` into $N$ sequences. ** \n",
    "\n",
    "You can do this using `arr.reshape(size)` where `size` is a tuple containing the dimensions sizes of the reshaped array. We know we want $N$ sequences, so let's make that the size of the first dimension. For the second dimension, you can use `-1` as a placeholder in the size, it'll fill up the array with the appropriate data for you. After this, you should have an array that is $N \\times (M * K)$.\n",
    "\n",
    "**3. Now that we have this array, we can iterate through it to get our batches. **\n",
    "\n",
    "The idea is each batch is a $N \\times M$ window on the $N \\times (M * K)$ array. For each subsequent batch, the window moves over by `n_steps`. We also want to create both the input and target arrays. Remember that the targets are the inputs shifted over one character. The way I like to do this window is use `range` to take steps of size `n_steps` from $0$ to `arr.shape[1]`, the total number of steps in each sequence. That way, the integers you get from `range` always point to the start of a batch, and each window is `n_steps` wide.\n",
    "\n",
    "> **TODO:** Write the code for creating batches in the function below. The exercises in this notebook _will not be easy_. I've provided a notebook with solutions alongside this notebook. If you get stuck, checkout the solutions. The most important thing is that you don't copy and paste the code into here, **type out the solution code yourself.**"
   ]
  },
  {
   "cell_type": "code",
   "execution_count": 7,
   "metadata": {},
   "outputs": [],
   "source": [
    "def get_batches(arr, n_seqs, n_steps):\n",
    "    '''Create a generator that returns batches of size\n",
    "       n_seqs x n_steps from arr.\n",
    "       \n",
    "       Arguments\n",
    "       ---------\n",
    "       arr: Array you want to make batches from\n",
    "       n_seqs: Batch size, the number of sequences per batch\n",
    "       n_steps: Number of sequence steps per batch\n",
    "    '''\n",
    "    \n",
    "    batch_size = n_seqs * n_steps\n",
    "    n_batches = len(arr)//batch_size\n",
    "    \n",
    "    # Keep only enough characters to make full batches\n",
    "    arr = arr[:n_batches * batch_size]\n",
    "    # Reshape into n_seqs rows\n",
    "    arr = arr.reshape((n_seqs, -1))\n",
    "    \n",
    "    for n in range(0, arr.shape[1], n_steps):\n",
    "        # The features\n",
    "        x = arr[:, n:n+n_steps]\n",
    "        # The targets, shifted by one\n",
    "        y = np.zeros_like(x)\n",
    "        try:\n",
    "            y[:, :-1], y[:, -1] = x[:, 1:], arr[:, n+n_steps]\n",
    "        except IndexError:\n",
    "            y[:, :-1], y[:, -1] = x[:, 1:], arr[:, 0]\n",
    "        yield x, y"
   ]
  },
  {
   "cell_type": "markdown",
   "metadata": {},
   "source": [
    "### Test Your Implementation\n",
    "\n",
    "Now I'll make some data sets and we can check out what's going on as we batch data. Here, as an example, I'm going to use a batch size of 10 and 50 sequence steps."
   ]
  },
  {
   "cell_type": "code",
   "execution_count": 8,
   "metadata": {},
   "outputs": [],
   "source": [
    "batches = get_batches(encoded, 10, 50)\n",
    "x, y = next(batches)"
   ]
  },
  {
   "cell_type": "code",
   "execution_count": 9,
   "metadata": {},
   "outputs": [
    {
     "name": "stdout",
     "output_type": "stream",
     "text": [
      "x\n",
      " [[27 36 53 70 16 25 28 48 65 66]\n",
      " [48 53 46 48  3 31 16 48 81 31]\n",
      " [32  2  3  8 66 66 82 49 25 47]\n",
      " [ 3 48 50 39 28  2  3 81 48 36]\n",
      " [48  2 16 48  2 47 69 48 47  2]\n",
      " [48  9 16 48 44 53 47 66 31  3]\n",
      " [36 25  3 48 74 31 46 25 48 35]\n",
      " [24 48 79 39 16 48  3 31 44 48]\n",
      " [16 48  2 47  3 14 16  8 48 12]\n",
      " [48 47 53  2 50 48 16 31 48 36]]\n",
      "\n",
      "y\n",
      " [[36 53 70 16 25 28 48 65 66 66]\n",
      " [53 46 48  3 31 16 48 81 31  2]\n",
      " [ 2  3  8 66 66 82 49 25 47 69]\n",
      " [48 50 39 28  2  3 81 48 36  2]\n",
      " [ 2 16 48  2 47 69 48 47  2 28]\n",
      " [ 9 16 48 44 53 47 66 31  3 29]\n",
      " [25  3 48 74 31 46 25 48 35 31]\n",
      " [48 79 39 16 48  3 31 44 48 47]\n",
      " [48  2 47  3 14 16  8 48 12 36]\n",
      " [47 53  2 50 48 16 31 48 36 25]]\n"
     ]
    }
   ],
   "source": [
    "print('x\\n', x[:10, :10])\n",
    "print('\\ny\\n', y[:10, :10])"
   ]
  },
  {
   "cell_type": "markdown",
   "metadata": {},
   "source": [
    "If you implemented `get_batches` correctly, the above output should look something like \n",
    "```\n",
    "x\n",
    " [[55 63 69 22  6 76 45  5 16 35]\n",
    " [ 5 69  1  5 12 52  6  5 56 52]\n",
    " [48 29 12 61 35 35  8 64 76 78]\n",
    " [12  5 24 39 45 29 12 56  5 63]\n",
    " [ 5 29  6  5 29 78 28  5 78 29]\n",
    " [ 5 13  6  5 36 69 78 35 52 12]\n",
    " [63 76 12  5 18 52  1 76  5 58]\n",
    " [34  5 73 39  6  5 12 52 36  5]\n",
    " [ 6  5 29 78 12 79  6 61  5 59]\n",
    " [ 5 78 69 29 24  5  6 52  5 63]]\n",
    "\n",
    "y\n",
    " [[63 69 22  6 76 45  5 16 35 35]\n",
    " [69  1  5 12 52  6  5 56 52 29]\n",
    " [29 12 61 35 35  8 64 76 78 28]\n",
    " [ 5 24 39 45 29 12 56  5 63 29]\n",
    " [29  6  5 29 78 28  5 78 29 45]\n",
    " [13  6  5 36 69 78 35 52 12 43]\n",
    " [76 12  5 18 52  1 76  5 58 52]\n",
    " [ 5 73 39  6  5 12 52 36  5 78]\n",
    " [ 5 29 78 12 79  6 61  5 59 63]\n",
    " [78 69 29 24  5  6 52  5 63 76]]\n",
    " ```\n",
    " although the exact numbers will be different. Check to make sure the data is shifted over one step for `y`."
   ]
  },
  {
   "cell_type": "markdown",
   "metadata": {},
   "source": [
    "---\n",
    "## Defining the network with PyTorch\n",
    "\n",
    "Below is where you'll define the network. We'll break it up into parts so it's easier to reason about each bit. Then we can connect them up into the whole network.\n",
    "\n",
    "<img src=\"assets/charRNN.png\" width=500px>\n",
    "\n",
    "Next, you'll use PyTorch to define the architecture of the network. We start by defining the layers and operations we want. Then, define a method for the forward pass. You've also been given a method for predicting characters."
   ]
  },
  {
   "cell_type": "markdown",
   "metadata": {},
   "source": [
    "### Model Structure\n",
    "\n",
    "In `__init__` the suggested structure is as follows:\n",
    "* Create and store the necessary dictionaries (this has been done for you)\n",
    "* Define an LSTM layer that takes as params: an input size (the number of characters), a hidden layer size `n_hidden`, a number of layers `n_layers`, a dropout probability `drop_prob`, and a batch_first boolean (True, since we are batching)\n",
    "* Define a dropout layer with `dropout_prob`\n",
    "* Define a fully-connected layer with params: input size `n_hidden` and output size (the number of characters)\n",
    "* Finally, initialize the weights (again, this has been given)\n",
    "\n",
    "Note that some parameters have been named and given in the `__init__` function, and we use them and store them by doing something like `self.drop_prob = drop_prob`."
   ]
  },
  {
   "cell_type": "markdown",
   "metadata": {},
   "source": [
    "---\n",
    "### LSTM Inputs/Outputs\n",
    "\n",
    "You can create a basic LSTM cell as follows\n",
    "\n",
    "```python\n",
    "self.lstm = nn.LSTM(input_size, n_hidden, n_layers, \n",
    "                            dropout=drop_prob, batch_first=True)\n",
    "```\n",
    "\n",
    "where `input_size` is the number of characters this cell expects to see as sequential input, and `n_hidden` is the number of units in the hidden layers in the cell. And we can add dropout by adding a dropout parameter with a specified probability; this will automatically add dropout to the inputs or outputs. Finally, in the `forward` function, we can stack up the LSTM cells into layers using `.view`. With this, you pass in a list of cells and it will send the output of one cell into the next cell.\n",
    "\n",
    "We also need to create an initial cell state of all zeros. This is done like so\n",
    "\n",
    "```python\n",
    "self.init_weights()\n",
    "```"
   ]
  },
  {
   "cell_type": "code",
   "execution_count": 37,
   "metadata": {},
   "outputs": [],
   "source": [
    "class CharRNN(nn.Module):\n",
    "    \n",
    "    def __init__(self, tokens, n_steps=100, n_hidden=256, n_layers=2,\n",
    "                               drop_prob=0.5, lr=0.001):\n",
    "        super().__init__()\n",
    "        self.drop_prob = drop_prob\n",
    "        self.n_layers = n_layers\n",
    "        self.n_hidden = n_hidden\n",
    "        self.lr = lr\n",
    "        \n",
    "        # creating character dictionaries\n",
    "        self.chars = tokens\n",
    "        self.int2char = dict(enumerate(self.chars))\n",
    "        self.char2int = {ch: ii for ii, ch in self.int2char.items()}\n",
    "        \n",
    "        ## TODO: define the LSTM\n",
    "        self.lstm = nn.LSTM(len(self.chars), n_hidden, n_layers, \n",
    "                            dropout=drop_prob, batch_first=True)\n",
    "        \n",
    "        ## TODO: define a dropout layer\n",
    "        self.dropout = nn.Dropout(drop_prob)\n",
    "        \n",
    "        ## TODO: define the final, fully-connected output layer\n",
    "        self.fc = nn.Linear(n_hidden, len(self.chars))\n",
    "        \n",
    "        # initialize the weights\n",
    "        self.init_weights()\n",
    "      \n",
    "    \n",
    "    def forward(self, x, hc):\n",
    "        ''' Forward pass through the network. \n",
    "            These inputs are x, and the hidden/cell state `hc`. '''\n",
    "        \n",
    "        ## TODO: Get x, and the new hidden state (h, c) from the lstm\n",
    "        x, (h, c) = self.lstm(x, hc)\n",
    "        \n",
    "        ## TODO: pass x through a droupout layer\n",
    "        x = self.dropout(x)\n",
    "        \n",
    "        # Stack up LSTM outputs using view\n",
    "        # x = x.view(x.size()[0]*x.size()[1], self.n_hidden)\n",
    "        x = x.contiguous().view(x.size()[0]*x.size()[1], self.n_hidden)\n",
    "        \n",
    "        ## TODO: put x through the fully-connected layer\n",
    "        x = self.fc(x)\n",
    "        \n",
    "        # return x and the hidden state (h, c)\n",
    "        return x, (h, c)\n",
    "    \n",
    "    \n",
    "    def predict(self, char, h=None, cuda=False, top_k=None):\n",
    "        ''' Given a character, predict the next character.\n",
    "        \n",
    "            Returns the predicted character and the hidden state.\n",
    "        '''\n",
    "        if cuda:\n",
    "            self.cuda()\n",
    "        else:\n",
    "            self.cpu()\n",
    "        \n",
    "        if h is None:\n",
    "            h = self.init_hidden(1)\n",
    "        \n",
    "        x = np.array([[self.char2int[char]]])\n",
    "        x = one_hot_encode(x, len(self.chars))\n",
    "        inputs = torch.from_numpy(x)\n",
    "        if cuda:\n",
    "            inputs = inputs.cuda()\n",
    "        \n",
    "        h = tuple([each.data for each in h])\n",
    "        out, h = self.forward(inputs, h)\n",
    "\n",
    "        p = F.softmax(out, dim=1).data\n",
    "        if cuda:\n",
    "            p = p.cpu()\n",
    "        \n",
    "        if top_k is None:\n",
    "            top_ch = np.arange(len(self.chars))\n",
    "        else:\n",
    "            p, top_ch = p.topk(top_k)\n",
    "            top_ch = top_ch.numpy().squeeze()\n",
    "        \n",
    "        p = p.numpy().squeeze()\n",
    "        char = np.random.choice(top_ch, p=p/p.sum())\n",
    "            \n",
    "        return self.int2char[char], h\n",
    "    \n",
    "    def init_weights(self):\n",
    "        ''' Initialize weights for fully connected layer '''\n",
    "        initrange = 0.1\n",
    "        \n",
    "        # Set bias tensor to all zeros\n",
    "        self.fc.bias.data.fill_(0)\n",
    "        # FC weights as random uniform\n",
    "        self.fc.weight.data.uniform_(-1, 1)\n",
    "        \n",
    "    def init_hidden(self, n_seqs):\n",
    "        ''' Initializes hidden state '''\n",
    "        # Create two new tensors with sizes n_layers x n_seqs x n_hidden,\n",
    "        # initialized to zero, for hidden state and cell state of LSTM\n",
    "        weight = next(self.parameters()).data\n",
    "        return (weight.new(self.n_layers, n_seqs, self.n_hidden).zero_(),\n",
    "                weight.new(self.n_layers, n_seqs, self.n_hidden).zero_())\n",
    "        "
   ]
  },
  {
   "cell_type": "markdown",
   "metadata": {},
   "source": [
    "### A note on the `predict`  function\n",
    "\n",
    "The output of our RNN is from a fully-connected layer and it outputs a **distribution of next-character scores**.\n",
    "\n",
    "To actually get the next character, we apply a softmax function, which gives us a *probability* distribution that we can then sample to predict the next character."
   ]
  },
  {
   "cell_type": "code",
   "execution_count": 38,
   "metadata": {},
   "outputs": [],
   "source": [
    "def train(net, data, epochs=10, n_seqs=10, n_steps=50, lr=0.001, clip=5, val_frac=0.1, cuda=False, print_every=10):\n",
    "    ''' Training a network \n",
    "    \n",
    "        Arguments\n",
    "        ---------\n",
    "        \n",
    "        net: CharRNN network\n",
    "        data: text data to train the network\n",
    "        epochs: Number of epochs to train\n",
    "        n_seqs: Number of mini-sequences per mini-batch, aka batch size\n",
    "        n_steps: Number of character steps per mini-batch\n",
    "        lr: learning rate\n",
    "        clip: gradient clipping\n",
    "        val_frac: Fraction of data to hold out for validation\n",
    "        cuda: Train with CUDA on a GPU\n",
    "        print_every: Number of steps for printing training and validation loss\n",
    "    \n",
    "    '''\n",
    "    \n",
    "    net.train()\n",
    "    opt = torch.optim.Adam(net.parameters(), lr=lr)\n",
    "    criterion = nn.CrossEntropyLoss()\n",
    "    \n",
    "    # create training and validation data\n",
    "    val_idx = int(len(data)*(1-val_frac))\n",
    "    data, val_data = data[:val_idx], data[val_idx:]\n",
    "    \n",
    "    if cuda:\n",
    "        net.cuda()\n",
    "    \n",
    "    counter = 0\n",
    "    n_chars = len(net.chars)\n",
    "    for e in range(epochs):\n",
    "        h = net.init_hidden(n_seqs)\n",
    "        for x, y in get_batches(data, n_seqs, n_steps):\n",
    "            counter += 1\n",
    "            \n",
    "            # One-hot encode our data and make them Torch tensors\n",
    "            x = one_hot_encode(x, n_chars)\n",
    "            inputs, targets = torch.from_numpy(x), torch.from_numpy(y)\n",
    "            \n",
    "            if cuda:\n",
    "                inputs, targets = inputs.cuda(), targets.cuda()\n",
    "\n",
    "            # Creating new variables for the hidden state, otherwise\n",
    "            # we'd backprop through the entire training history\n",
    "            h = tuple([each.data for each in h])\n",
    "\n",
    "            net.zero_grad()\n",
    "            \n",
    "            output, h = net.forward(inputs, h)\n",
    "            loss = criterion(output, targets.view(n_seqs*n_steps))\n",
    "\n",
    "            loss.backward()\n",
    "            \n",
    "            # `clip_grad_norm` helps prevent the exploding gradient problem in RNNs / LSTMs.\n",
    "            nn.utils.clip_grad_norm_(net.parameters(), clip)\n",
    "\n",
    "            opt.step()\n",
    "            \n",
    "            if counter % print_every == 0:\n",
    "                \n",
    "                # Get validation loss\n",
    "                val_h = net.init_hidden(n_seqs)\n",
    "                val_losses = []\n",
    "                for x, y in get_batches(val_data, n_seqs, n_steps):\n",
    "                    # One-hot encode our data and make them Torch tensors\n",
    "                    x = one_hot_encode(x, n_chars)\n",
    "                    x, y = torch.from_numpy(x), torch.from_numpy(y)\n",
    "                    \n",
    "                    # Creating new variables for the hidden state, otherwise\n",
    "                    # we'd backprop through the entire training history\n",
    "                    val_h = tuple([each.data for each in val_h])\n",
    "                    \n",
    "                    inputs, targets = x, y\n",
    "                    if cuda:\n",
    "                        inputs, targets = inputs.cuda(), targets.cuda()\n",
    "\n",
    "                    output, val_h = net.forward(inputs, val_h)\n",
    "                    val_loss = criterion(output, targets.view(n_seqs*n_steps))\n",
    "                \n",
    "                    val_losses.append(val_loss.item())\n",
    "                \n",
    "                print(\"Epoch: {}/{}...\".format(e+1, epochs),\n",
    "                      \"Step: {}...\".format(counter),\n",
    "                      \"Loss: {:.4f}...\".format(loss.item()),\n",
    "                      \"Val Loss: {:.4f}\".format(np.mean(val_losses)))"
   ]
  },
  {
   "cell_type": "markdown",
   "metadata": {},
   "source": [
    "## Time to train\n",
    "\n",
    "Now we can actually train the network. First we'll create the network itself, with some given hyperparameters. Then, define the mini-batches sizes (number of sequences and number of steps), and start the training. With the train function, we can set the number of epochs, the learning rate, and other parameters. Also, we can run the training on a GPU by setting `cuda=True`."
   ]
  },
  {
   "cell_type": "code",
   "execution_count": 39,
   "metadata": {},
   "outputs": [],
   "source": [
    "if 'net' in locals():\n",
    "    del net"
   ]
  },
  {
   "cell_type": "code",
   "execution_count": 40,
   "metadata": {},
   "outputs": [
    {
     "name": "stdout",
     "output_type": "stream",
     "text": [
      "CharRNN(\n",
      "  (lstm): LSTM(83, 512, num_layers=2, batch_first=True, dropout=0.5)\n",
      "  (dropout): Dropout(p=0.5, inplace=False)\n",
      "  (fc): Linear(in_features=512, out_features=83, bias=True)\n",
      ")\n"
     ]
    }
   ],
   "source": [
    "# define and print the net\n",
    "net = CharRNN(chars, n_hidden=512, n_layers=2)\n",
    "print(net)"
   ]
  },
  {
   "cell_type": "code",
   "execution_count": 51,
   "metadata": {
    "scrolled": true
   },
   "outputs": [
    {
     "name": "stdout",
     "output_type": "stream",
     "text": [
      "Epoch: 1/10... Step: 10... Loss: 1.2256... Val Loss: 1.4061\n",
      "Epoch: 1/10... Step: 20... Loss: 1.2366... Val Loss: 1.4062\n",
      "Epoch: 1/10... Step: 30... Loss: 1.2220... Val Loss: 1.4061\n",
      "Epoch: 1/10... Step: 40... Loss: 1.1870... Val Loss: 1.4001\n",
      "Epoch: 1/10... Step: 50... Loss: 1.1998... Val Loss: 1.3983\n",
      "Epoch: 1/10... Step: 60... Loss: 1.1473... Val Loss: 1.3950\n",
      "Epoch: 1/10... Step: 70... Loss: 1.1661... Val Loss: 1.3946\n",
      "Epoch: 1/10... Step: 80... Loss: 1.1452... Val Loss: 1.3996\n",
      "Epoch: 1/10... Step: 90... Loss: 1.1772... Val Loss: 1.4021\n",
      "Epoch: 1/10... Step: 100... Loss: 1.1603... Val Loss: 1.3927\n",
      "Epoch: 1/10... Step: 110... Loss: 1.1661... Val Loss: 1.3901\n",
      "Epoch: 1/10... Step: 120... Loss: 1.1523... Val Loss: 1.3973\n",
      "Epoch: 1/10... Step: 130... Loss: 1.1822... Val Loss: 1.3867\n",
      "Epoch: 2/10... Step: 140... Loss: 1.2374... Val Loss: 1.4005\n",
      "Epoch: 2/10... Step: 150... Loss: 1.1839... Val Loss: 1.4026\n",
      "Epoch: 2/10... Step: 160... Loss: 1.1872... Val Loss: 1.3830\n",
      "Epoch: 2/10... Step: 170... Loss: 1.1949... Val Loss: 1.3913\n",
      "Epoch: 2/10... Step: 180... Loss: 1.1529... Val Loss: 1.3868\n",
      "Epoch: 2/10... Step: 190... Loss: 1.1485... Val Loss: 1.3902\n",
      "Epoch: 2/10... Step: 200... Loss: 1.1356... Val Loss: 1.3957\n",
      "Epoch: 2/10... Step: 210... Loss: 1.1521... Val Loss: 1.3892\n",
      "Epoch: 2/10... Step: 220... Loss: 1.1405... Val Loss: 1.3973\n",
      "Epoch: 2/10... Step: 230... Loss: 1.1452... Val Loss: 1.3977\n",
      "Epoch: 2/10... Step: 240... Loss: 1.1729... Val Loss: 1.3894\n",
      "Epoch: 2/10... Step: 250... Loss: 1.1476... Val Loss: 1.3865\n",
      "Epoch: 2/10... Step: 260... Loss: 1.1303... Val Loss: 1.3893\n",
      "Epoch: 2/10... Step: 270... Loss: 1.1916... Val Loss: 1.3830\n",
      "Epoch: 3/10... Step: 280... Loss: 1.1495... Val Loss: 1.3868\n",
      "Epoch: 3/10... Step: 290... Loss: 1.1572... Val Loss: 1.3849\n",
      "Epoch: 3/10... Step: 300... Loss: 1.1455... Val Loss: 1.3785\n",
      "Epoch: 3/10... Step: 310... Loss: 1.1513... Val Loss: 1.3830\n",
      "Epoch: 3/10... Step: 320... Loss: 1.1310... Val Loss: 1.3796\n",
      "Epoch: 3/10... Step: 330... Loss: 1.1328... Val Loss: 1.3939\n",
      "Epoch: 3/10... Step: 340... Loss: 1.1707... Val Loss: 1.3879\n",
      "Epoch: 3/10... Step: 350... Loss: 1.1437... Val Loss: 1.3878\n",
      "Epoch: 3/10... Step: 360... Loss: 1.1085... Val Loss: 1.4026\n",
      "Epoch: 3/10... Step: 370... Loss: 1.1363... Val Loss: 1.3993\n",
      "Epoch: 3/10... Step: 380... Loss: 1.1637... Val Loss: 1.3912\n",
      "Epoch: 3/10... Step: 390... Loss: 1.1452... Val Loss: 1.3820\n",
      "Epoch: 3/10... Step: 400... Loss: 1.1325... Val Loss: 1.3871\n",
      "Epoch: 3/10... Step: 410... Loss: 1.1551... Val Loss: 1.3780\n",
      "Epoch: 4/10... Step: 420... Loss: 1.1578... Val Loss: 1.3850\n",
      "Epoch: 4/10... Step: 430... Loss: 1.1395... Val Loss: 1.3803\n",
      "Epoch: 4/10... Step: 440... Loss: 1.1598... Val Loss: 1.3863\n",
      "Epoch: 4/10... Step: 450... Loss: 1.1170... Val Loss: 1.3838\n",
      "Epoch: 4/10... Step: 460... Loss: 1.0963... Val Loss: 1.3886\n",
      "Epoch: 4/10... Step: 470... Loss: 1.1408... Val Loss: 1.3906\n",
      "Epoch: 4/10... Step: 480... Loss: 1.1678... Val Loss: 1.3889\n",
      "Epoch: 4/10... Step: 490... Loss: 1.1571... Val Loss: 1.3956\n",
      "Epoch: 4/10... Step: 500... Loss: 1.1627... Val Loss: 1.4075\n",
      "Epoch: 4/10... Step: 510... Loss: 1.1561... Val Loss: 1.3976\n",
      "Epoch: 4/10... Step: 520... Loss: 1.1408... Val Loss: 1.3997\n",
      "Epoch: 4/10... Step: 530... Loss: 1.1492... Val Loss: 1.3959\n",
      "Epoch: 4/10... Step: 540... Loss: 1.1081... Val Loss: 1.3989\n",
      "Epoch: 4/10... Step: 550... Loss: 1.1701... Val Loss: 1.3767\n",
      "Epoch: 5/10... Step: 560... Loss: 1.1364... Val Loss: 1.3771\n",
      "Epoch: 5/10... Step: 570... Loss: 1.1359... Val Loss: 1.3797\n",
      "Epoch: 5/10... Step: 580... Loss: 1.1304... Val Loss: 1.3760\n",
      "Epoch: 5/10... Step: 590... Loss: 1.1276... Val Loss: 1.3895\n",
      "Epoch: 5/10... Step: 600... Loss: 1.1246... Val Loss: 1.3894\n",
      "Epoch: 5/10... Step: 610... Loss: 1.1126... Val Loss: 1.3827\n",
      "Epoch: 5/10... Step: 620... Loss: 1.1450... Val Loss: 1.3855\n",
      "Epoch: 5/10... Step: 630... Loss: 1.1464... Val Loss: 1.3895\n",
      "Epoch: 5/10... Step: 640... Loss: 1.1207... Val Loss: 1.3933\n",
      "Epoch: 5/10... Step: 650... Loss: 1.1476... Val Loss: 1.3925\n",
      "Epoch: 5/10... Step: 660... Loss: 1.1327... Val Loss: 1.3881\n",
      "Epoch: 5/10... Step: 670... Loss: 1.1323... Val Loss: 1.3898\n",
      "Epoch: 5/10... Step: 680... Loss: 1.1450... Val Loss: 1.3851\n",
      "Epoch: 5/10... Step: 690... Loss: 1.1437... Val Loss: 1.3773\n",
      "Epoch: 6/10... Step: 700... Loss: 1.1511... Val Loss: 1.3812\n",
      "Epoch: 6/10... Step: 710... Loss: 1.1296... Val Loss: 1.3822\n",
      "Epoch: 6/10... Step: 720... Loss: 1.1230... Val Loss: 1.3773\n",
      "Epoch: 6/10... Step: 730... Loss: 1.1363... Val Loss: 1.3868\n",
      "Epoch: 6/10... Step: 740... Loss: 1.1220... Val Loss: 1.3773\n",
      "Epoch: 6/10... Step: 750... Loss: 1.1338... Val Loss: 1.3797\n",
      "Epoch: 6/10... Step: 760... Loss: 1.1431... Val Loss: 1.3748\n",
      "Epoch: 6/10... Step: 770... Loss: 1.1241... Val Loss: 1.3889\n",
      "Epoch: 6/10... Step: 780... Loss: 1.1234... Val Loss: 1.3897\n",
      "Epoch: 6/10... Step: 790... Loss: 1.1196... Val Loss: 1.3789\n",
      "Epoch: 6/10... Step: 800... Loss: 1.1369... Val Loss: 1.3826\n",
      "Epoch: 6/10... Step: 810... Loss: 1.1190... Val Loss: 1.3893\n",
      "Epoch: 6/10... Step: 820... Loss: 1.0887... Val Loss: 1.3903\n",
      "Epoch: 6/10... Step: 830... Loss: 1.1486... Val Loss: 1.3819\n",
      "Epoch: 7/10... Step: 840... Loss: 1.1227... Val Loss: 1.3780\n",
      "Epoch: 7/10... Step: 850... Loss: 1.1128... Val Loss: 1.3927\n",
      "Epoch: 7/10... Step: 860... Loss: 1.1075... Val Loss: 1.4031\n",
      "Epoch: 7/10... Step: 870... Loss: 1.1180... Val Loss: 1.3980\n",
      "Epoch: 7/10... Step: 880... Loss: 1.1354... Val Loss: 1.3906\n",
      "Epoch: 7/10... Step: 890... Loss: 1.1419... Val Loss: 1.3933\n",
      "Epoch: 7/10... Step: 900... Loss: 1.1403... Val Loss: 1.3801\n",
      "Epoch: 7/10... Step: 910... Loss: 1.1014... Val Loss: 1.3859\n",
      "Epoch: 7/10... Step: 920... Loss: 1.1210... Val Loss: 1.3904\n",
      "Epoch: 7/10... Step: 930... Loss: 1.1058... Val Loss: 1.3798\n",
      "Epoch: 7/10... Step: 940... Loss: 1.1035... Val Loss: 1.3803\n",
      "Epoch: 7/10... Step: 950... Loss: 1.1363... Val Loss: 1.3906\n",
      "Epoch: 7/10... Step: 960... Loss: 1.1251... Val Loss: 1.3816\n",
      "Epoch: 7/10... Step: 970... Loss: 1.1331... Val Loss: 1.3807\n",
      "Epoch: 8/10... Step: 980... Loss: 1.1113... Val Loss: 1.3925\n",
      "Epoch: 8/10... Step: 990... Loss: 1.1127... Val Loss: 1.3848\n",
      "Epoch: 8/10... Step: 1000... Loss: 1.1202... Val Loss: 1.3802\n",
      "Epoch: 8/10... Step: 1010... Loss: 1.1309... Val Loss: 1.3863\n",
      "Epoch: 8/10... Step: 1020... Loss: 1.1329... Val Loss: 1.3874\n",
      "Epoch: 8/10... Step: 1030... Loss: 1.1151... Val Loss: 1.3842\n",
      "Epoch: 8/10... Step: 1040... Loss: 1.1196... Val Loss: 1.3857\n",
      "Epoch: 8/10... Step: 1050... Loss: 1.1071... Val Loss: 1.3854\n",
      "Epoch: 8/10... Step: 1060... Loss: 1.1024... Val Loss: 1.3946\n",
      "Epoch: 8/10... Step: 1070... Loss: 1.1277... Val Loss: 1.3773\n",
      "Epoch: 8/10... Step: 1080... Loss: 1.1149... Val Loss: 1.3819\n",
      "Epoch: 8/10... Step: 1090... Loss: 1.1063... Val Loss: 1.3872\n",
      "Epoch: 8/10... Step: 1100... Loss: 1.0999... Val Loss: 1.3861\n",
      "Epoch: 8/10... Step: 1110... Loss: 1.1046... Val Loss: 1.3813\n",
      "Epoch: 9/10... Step: 1120... Loss: 1.1097... Val Loss: 1.3809\n",
      "Epoch: 9/10... Step: 1130... Loss: 1.1172... Val Loss: 1.3715\n",
      "Epoch: 9/10... Step: 1140... Loss: 1.1316... Val Loss: 1.3755\n",
      "Epoch: 9/10... Step: 1150... Loss: 1.1313... Val Loss: 1.3904\n",
      "Epoch: 9/10... Step: 1160... Loss: 1.1037... Val Loss: 1.3712\n",
      "Epoch: 9/10... Step: 1170... Loss: 1.1169... Val Loss: 1.3766\n",
      "Epoch: 9/10... Step: 1180... Loss: 1.1095... Val Loss: 1.3788\n",
      "Epoch: 9/10... Step: 1190... Loss: 1.1288... Val Loss: 1.3808\n",
      "Epoch: 9/10... Step: 1200... Loss: 1.1022... Val Loss: 1.3812\n",
      "Epoch: 9/10... Step: 1210... Loss: 1.1018... Val Loss: 1.3784\n",
      "Epoch: 9/10... Step: 1220... Loss: 1.1110... Val Loss: 1.3815\n",
      "Epoch: 9/10... Step: 1230... Loss: 1.0952... Val Loss: 1.3819\n",
      "Epoch: 9/10... Step: 1240... Loss: 1.0942... Val Loss: 1.3848\n",
      "Epoch: 9/10... Step: 1250... Loss: 1.1196... Val Loss: 1.3840\n",
      "Epoch: 10/10... Step: 1260... Loss: 1.1065... Val Loss: 1.3852\n",
      "Epoch: 10/10... Step: 1270... Loss: 1.1173... Val Loss: 1.3850\n",
      "Epoch: 10/10... Step: 1280... Loss: 1.1209... Val Loss: 1.3882\n",
      "Epoch: 10/10... Step: 1290... Loss: 1.1097... Val Loss: 1.3925\n",
      "Epoch: 10/10... Step: 1300... Loss: 1.1081... Val Loss: 1.3720\n",
      "Epoch: 10/10... Step: 1310... Loss: 1.1240... Val Loss: 1.3725\n",
      "Epoch: 10/10... Step: 1320... Loss: 1.0997... Val Loss: 1.3796\n",
      "Epoch: 10/10... Step: 1330... Loss: 1.0915... Val Loss: 1.3815\n",
      "Epoch: 10/10... Step: 1340... Loss: 1.0786... Val Loss: 1.3895\n",
      "Epoch: 10/10... Step: 1350... Loss: 1.0868... Val Loss: 1.3747\n",
      "Epoch: 10/10... Step: 1360... Loss: 1.1025... Val Loss: 1.3731\n",
      "Epoch: 10/10... Step: 1370... Loss: 1.0853... Val Loss: 1.3808\n",
      "Epoch: 10/10... Step: 1380... Loss: 1.1123... Val Loss: 1.3737\n",
      "Epoch: 10/10... Step: 1390... Loss: 1.1616... Val Loss: 1.3816\n"
     ]
    }
   ],
   "source": [
    "n_seqs, n_steps = 128, 100\n",
    "\n",
    "# you may change cuda to True if you plan on using a GPU!\n",
    "# also, if you do, please INCREASE the epochs to 25\n",
    "train(net, encoded, epochs=10, n_seqs=n_seqs, n_steps=n_steps, lr=0.001, cuda=False, print_every=10)"
   ]
  },
  {
   "cell_type": "markdown",
   "metadata": {},
   "source": [
    "## Getting the best model\n",
    "\n",
    "To set your hyperparameters to get the best performance, you'll want to watch the training and validation losses. If your training loss is much lower than the validation loss, you're overfitting. Increase regularization (more dropout) or use a smaller network. If the training and validation losses are close, you're underfitting so you can increase the size of the network."
   ]
  },
  {
   "cell_type": "markdown",
   "metadata": {},
   "source": [
    "## Hyperparameters\n",
    "\n",
    "Here are the hyperparameters for the network.\n",
    "\n",
    "In defining the model:\n",
    "* `n_hidden` - The number of units in the hidden layers.\n",
    "* `n_layers` - Number of hidden LSTM layers to use.\n",
    "\n",
    "We assume that dropout probability and learning rate will be kept at the default, in this example.\n",
    "\n",
    "And in training:\n",
    "* `n_seqs` - Number of sequences running through the network in one pass.\n",
    "* `n_steps` - Number of characters in the sequence the network is trained on. Larger is better typically, the network will learn more long range dependencies. But it takes longer to train. 100 is typically a good number here.\n",
    "* `lr` - Learning rate for training\n",
    "\n",
    "Here's some good advice from Andrej Karpathy on training the network. I'm going to copy it in here for your benefit, but also link to [where it originally came from](https://github.com/karpathy/char-rnn#tips-and-tricks).\n",
    "\n",
    "> ## Tips and Tricks\n",
    "\n",
    ">### Monitoring Validation Loss vs. Training Loss\n",
    ">If you're somewhat new to Machine Learning or Neural Networks it can take a bit of expertise to get good models. The most important quantity to keep track of is the difference between your training loss (printed during training) and the validation loss (printed once in a while when the RNN is run on the validation data (by default every 1000 iterations)). In particular:\n",
    "\n",
    "> - If your training loss is much lower than validation loss then this means the network might be **overfitting**. Solutions to this are to decrease your network size, or to increase dropout. For example you could try dropout of 0.5 and so on.\n",
    "> - If your training/validation loss are about equal then your model is **underfitting**. Increase the size of your model (either number of layers or the raw number of neurons per layer)\n",
    "\n",
    "> ### Approximate number of parameters\n",
    "\n",
    "> The two most important parameters that control the model are `n_hidden` and `n_layers`. I would advise that you always use `n_layers` of either 2/3. The `n_hidden` can be adjusted based on how much data you have. The two important quantities to keep track of here are:\n",
    "\n",
    "> - The number of parameters in your model. This is printed when you start training.\n",
    "> - The size of your dataset. 1MB file is approximately 1 million characters.\n",
    "\n",
    ">These two should be about the same order of magnitude. It's a little tricky to tell. Here are some examples:\n",
    "\n",
    "> - I have a 100MB dataset and I'm using the default parameter settings (which currently print 150K parameters). My data size is significantly larger (100 mil >> 0.15 mil), so I expect to heavily underfit. I am thinking I can comfortably afford to make `n_hidden` larger.\n",
    "> - I have a 10MB dataset and running a 10 million parameter model. I'm slightly nervous and I'm carefully monitoring my validation loss. If it's larger than my training loss then I may want to try to increase dropout a bit and see if that helps the validation loss.\n",
    "\n",
    "> ### Best models strategy\n",
    "\n",
    ">The winning strategy to obtaining very good models (if you have the compute time) is to always err on making the network larger (as large as you're willing to wait for it to compute) and then try different dropout values (between 0,1). Whatever model has the best validation performance (the loss, written in the checkpoint filename, low is good) is the one you should use in the end.\n",
    "\n",
    ">It is very common in deep learning to run many different models with many different hyperparameter settings, and in the end take whatever checkpoint gave the best validation performance.\n",
    "\n",
    ">By the way, the size of your training and validation splits are also parameters. Make sure you have a decent amount of data in your validation set or otherwise the validation performance will be noisy and not very informative."
   ]
  },
  {
   "cell_type": "markdown",
   "metadata": {},
   "source": [
    "After training, we'll save the model so we can load it again later if we need too. Here I'm saving the parameters needed to create the same architecture, the hidden layer hyperparameters and the text characters."
   ]
  },
  {
   "cell_type": "code",
   "execution_count": 55,
   "metadata": {},
   "outputs": [],
   "source": [
    "# change the name, for saving multiple files\n",
    "model_name = 'rnn_1_epoch.net'\n",
    "\n",
    "checkpoint = {'n_hidden': net.n_hidden,\n",
    "              'n_layers': net.n_layers,\n",
    "              'state_dict': net.state_dict(),\n",
    "              'tokens': net.chars}\n",
    "\n",
    "with open(model_name, 'wb') as f:\n",
    "    torch.save(checkpoint, f)"
   ]
  },
  {
   "cell_type": "markdown",
   "metadata": {},
   "source": [
    "## Sampling\n",
    "\n",
    "Now that the model is trained, we'll want to sample from it. To sample, we pass in a character and have the network predict the next character. Then we take that character, pass it back in, and get another predicted character. Just keep doing this and you'll generate a bunch of text!\n",
    "\n",
    "### Top K sampling\n",
    "\n",
    "Our predictions come from a categorcial probability distribution over all the possible characters. We can make the sample text and make it more reasonable to handle (with less variables) by only considering some $K$ most probable characters. This will prevent the network from giving us completely absurd characters while allowing it to introduce some noise and randomness into the sampled text.\n",
    "\n",
    "Typically you'll want to prime the network so you can build up a hidden state. Otherwise the network will start out generating characters at random. In general the first bunch of characters will be a little rough since it hasn't built up a long history of characters to predict from."
   ]
  },
  {
   "cell_type": "code",
   "execution_count": 43,
   "metadata": {},
   "outputs": [],
   "source": [
    "def sample(net, size, prime='The', top_k=None, cuda=False):\n",
    "        \n",
    "    if cuda:\n",
    "        net.cuda()\n",
    "    else:\n",
    "        net.cpu()\n",
    "\n",
    "    net.eval()\n",
    "    \n",
    "    # First off, run through the prime characters\n",
    "    chars = [ch for ch in prime]\n",
    "    h = net.init_hidden(1)\n",
    "    for ch in prime:\n",
    "        char, h = net.predict(ch, h, cuda=cuda, top_k=top_k)\n",
    "\n",
    "    chars.append(char)\n",
    "    \n",
    "    # Now pass in the previous character and get a new one\n",
    "    for ii in range(size):\n",
    "        char, h = net.predict(chars[-1], h, cuda=cuda, top_k=top_k)\n",
    "        chars.append(char)\n",
    "\n",
    "    return ''.join(chars)"
   ]
  },
  {
   "cell_type": "code",
   "execution_count": 56,
   "metadata": {},
   "outputs": [
    {
     "name": "stdout",
     "output_type": "stream",
     "text": [
      "Anna and his son when all\n",
      "the wife of the cause of his sister's and was still hurt, and\n",
      "asked that the whole of the widdows were consciented that\n",
      "a court of terms and their parties and stell sound of strength\n",
      "from second, with a courly and a soft.\n",
      "\n",
      "\"I don't care!\" he repeated to her whether in such simple the\n",
      "same tell of a conversation who had told Anna and have been telling\n",
      "him the cappos were to greet this form of the steps he was convinced that\n",
      "he had not come for a party of the softenen and all over all of a\n",
      "long a wife. They were necessary to help the men. He was so move\n",
      "that the mere person was so attractive.\n",
      "\n",
      "\"Well, with him,\" he said, and when\n",
      "Vassenka had troubled out of the course, he seemed so that he\n",
      "would not be a look for making that thought of his sufferings about what\n",
      "he said. \"And what am I see in her mind it said it.\"\n",
      "\n",
      "\"Oh, yes, I'll go to the peasant than the promess of my stooring\n",
      "explaining about him, but I shall not care for that, and what has has\n",
      "a great class with your portrait of their mother's correction.\"\n",
      "\n",
      "Alexey Alexandrovitch would have been son, that if always dress in the\n",
      "found hands over his way to his front, and as he had thought.\n",
      "\n",
      "\"That's the peasant and sorrible to see you.\"\n",
      "\n",
      "Still he saw the mistake and shooting at the doctor and was so too or\n",
      "to teer his father, and and sat she could not they went to the station of\n",
      "his soul. He heard him. \"And he has all tooks?\" he said as an article\n",
      "and constructed the cold class, and he saw that it was true, had\n",
      "begun to bring the chumband, we shart a great deal was not a\n",
      "certain thought of their manners, hideous and train facling from\n",
      "hour something, she sat down.\n",
      "\n",
      "She saw that the way harder into the country, and alone, a character of\n",
      "the course of a princess, her hurry hair and to a servant had begun to\n",
      "ask a stat of his father in the service. Her heart town her head, smiling.\n",
      "\n",
      "\"You can go. I would say to you, and she's so mean to be seeing when\n",
      "the ports are the friends, and as soon in the sea \n"
     ]
    }
   ],
   "source": [
    "print(sample(net, 2000, prime='Anna', top_k=5, cuda=False))"
   ]
  },
  {
   "cell_type": "markdown",
   "metadata": {},
   "source": [
    "## Loading a checkpoint"
   ]
  },
  {
   "cell_type": "code",
   "execution_count": 57,
   "metadata": {},
   "outputs": [
    {
     "data": {
      "text/plain": [
       "<All keys matched successfully>"
      ]
     },
     "execution_count": 57,
     "metadata": {},
     "output_type": "execute_result"
    }
   ],
   "source": [
    "# Here we have loaded in a model that trained over 1 epoch `rnn_1_epoch.net`\n",
    "with open('rnn_1_epoch.net', 'rb') as f:\n",
    "    checkpoint = torch.load(f)\n",
    "    \n",
    "loaded = CharRNN(checkpoint['tokens'], n_hidden=checkpoint['n_hidden'], n_layers=checkpoint['n_layers'])\n",
    "loaded.load_state_dict(checkpoint['state_dict'])"
   ]
  },
  {
   "cell_type": "code",
   "execution_count": 60,
   "metadata": {},
   "outputs": [
    {
     "name": "stdout",
     "output_type": "stream",
     "text": [
      "And Levin said hoorily\n",
      "for the first trace on the world.\n",
      "\n",
      "\"It's sorry to make the treasure.\"\n",
      "\n",
      "\"Thinking that you, and I can't get all on you, and I see in the\n",
      "world of some doubt and manners, the position with his comments in\n",
      "his subject. The matter was to be, who had been asked the strong time\n",
      "and her step heaving an agricultury simple familiar from him. The\n",
      "study and song all over, and she was standing; he could not help to\n",
      "be as as she heard.\n",
      "\n",
      "She should help her than ever; and there was a sell that she who\n",
      "had not taken off had at the feeling of his station at the country,\n",
      "to take a pleanure of his hands to the sound of the same sevene\n",
      "work to think of the fact as she was, and with a cranking smile.\n",
      "\n",
      "\"I am all right,\" she said. \"I succeed in healthy, by nurse who would be\n",
      "that he was saking what he said; \"how she shall ston my wife and\n",
      "all at once the proper, and set to the side, or anything. He's\n",
      "silent; and so terrible with you, and I don't could then all hust\n",
      "the soul when you are supporting his wife's and to the way, the\n",
      "convenient as in all and matters as that he was as an answer without\n",
      "his brother, and always asked the contimuoual time.\n",
      "\n",
      "\"You were in a servant, what I have said in her mother, and that it\n",
      "seemed to her that his words was not sitting on her sister, he held\n",
      "the day at the desire to be too, but he was sitting dropping her head again a\n",
      "little and went into the room, with the first politic love to his hand, when\n",
      "he should have the fet to have such a station-said women.\n",
      "\n",
      "\"And if you wouldn't have asked the thick or through the chairs of\n",
      "a subject. Her hotel came in her thought. And so that he\n",
      "moved and tell, because it is so,\" answered Levin.\n",
      "\"And the doctors all the doctors, women any sort.\"\n",
      "\n",
      "\"Why, when you say that the white clerk, the woman has the fact with a\n",
      "mercy man of the carriage. This strength that such a still.\n",
      "\n",
      "\"I denot him to myself. I was not in the marsh?\"\n",
      "\n",
      "\"I am suffering to him.\"\n",
      "\n",
      "\"You don't know this.\"\n",
      "\n",
      "\"Well? I've seen as it is to be in the cand\n"
     ]
    }
   ],
   "source": [
    "# Change cuda to True if you are using GPU!\n",
    "# after 31 epoch\n",
    "print(sample(loaded, 2000, cuda=False, top_k=5, prime=\"And Levin said hoo\"))"
   ]
  },
  {
   "cell_type": "code",
   "execution_count": null,
   "metadata": {},
   "outputs": [],
   "source": []
  }
 ],
 "metadata": {
  "kernelspec": {
   "display_name": "Python 3",
   "language": "python",
   "name": "python3"
  },
  "language_info": {
   "codemirror_mode": {
    "name": "ipython",
    "version": 3
   },
   "file_extension": ".py",
   "mimetype": "text/x-python",
   "name": "python",
   "nbconvert_exporter": "python",
   "pygments_lexer": "ipython3",
   "version": "3.6.12"
  }
 },
 "nbformat": 4,
 "nbformat_minor": 4
}
